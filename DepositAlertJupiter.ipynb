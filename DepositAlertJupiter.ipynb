METHOD_UPDATE = "0xa4bf9d06" # UPDATEKEYSPLAYER
METHOD_CREATE = "0x71502382" # CREATEALPHAKEYSFORV2
tonedout = "0x519349f5EA3868C933B182e2576F01aBCaE7f755"
gyarados = "0x210b475164cB687756c8678e776b082f2843b8Ff"

acc_tx_list = query(tx_list_url, address=tonedout, start_block=1)['result']

for tx in acc_tx_list:
    if tx['input'][:10] == METHOD_UPDATE and tx['tokenSymbol']!='BTC':
        print( tx['tokenName'], tx['tokenSymbol'])
    elif tx['input'][:10] == METHOD_CREATE and tx['tokenSymbol']!='BTC':
        print( tx['tokenName'], tx['tokenSymbol'])
    else:
        print(tx['hash'], tx['input'][:10], tx['tokenSymbol'])
