{
 "cells": [
  {
   "cell_type": "code",
   "execution_count": null,
   "metadata": {},
   "outputs": [],
   "source": [
    "METHOD_UPDATE = \"0xa4bf9d06\" # UPDATEKEYSPLAYER\n",
    "METHOD_CREATE = \"0x71502382\" # CREATEALPHAKEYSFORV2\n",
    "tonedout = \"0x519349f5EA3868C933B182e2576F01aBCaE7f755\"\n",
    "gyarados = \"0x210b475164cB687756c8678e776b082f2843b8Ff\"\n",
    "\n",
    "acc_tx_list = query(tx_list_url, address=tonedout, start_block=1)['result']\n",
    "\n",
    "for tx in acc_tx_list:\n",
    "    if tx['input'][:10] == METHOD_UPDATE and tx['tokenSymbol']!='BTC':\n",
    "        print( tx['tokenName'], tx['tokenSymbol'])\n",
    "    elif tx['input'][:10] == METHOD_CREATE and tx['tokenSymbol']!='BTC':\n",
    "        print( tx['tokenName'], tx['tokenSymbol'])\n",
    "    else:\n",
    "        print(tx['hash'], tx['input'][:10], tx['tokenSymbol'])"
   ]
  }
 ],
 "metadata": {
  "language_info": {
   "name": "python"
  }
 },
 "nbformat": 4,
 "nbformat_minor": 2
}
